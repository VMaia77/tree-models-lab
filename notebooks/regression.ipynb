{
 "cells": [
  {
   "attachments": {},
   "cell_type": "markdown",
   "metadata": {},
   "source": [
    "The dataset can be obtained here: https://www.kaggle.com/datasets/arshid/iris-flower-dataset"
   ]
  },
  {
   "cell_type": "code",
   "execution_count": 42,
   "metadata": {},
   "outputs": [],
   "source": [
    "import numpy as np\n",
    "import pandas as pd\n",
    "from sklearn.model_selection import train_test_split\n",
    "from sklearn.metrics import mean_squared_error\n",
    "import matplotlib.pyplot as plt\n",
    "from src.algorithms.decision_tree.decision_tree_regressor import DecisionTreeRegressor\n",
    "from src.algorithms.random_forest.random_forest_regressor import RandomForestRegressor\n",
    "from src.algorithms.gradient_boosting.gradient_boosting_regressor import GradientBoostingRegressor\n",
    "\n",
    "col_names = ['sepal_length', 'sepal_width', 'petal_length', 'petal_width', 'type']\n",
    "df = pd.read_csv(\"iris.csv\", skiprows=1, header=None, names=col_names).drop('type', axis = 1)"
   ]
  },
  {
   "cell_type": "code",
   "execution_count": 43,
   "metadata": {},
   "outputs": [],
   "source": [
    "X = df.iloc[:, :-1].values\n",
    "y = df.iloc[:, -1].values.reshape(-1,1)\n",
    "X_train, X_test, y_train, y_test = train_test_split(X, y, test_size=.2, random_state=42)\n"
   ]
  },
  {
   "cell_type": "code",
   "execution_count": 44,
   "metadata": {},
   "outputs": [
    {
     "name": "stdout",
     "output_type": "stream",
     "text": [
      "X idx: 2  <=  1.9  ? | Info gain:  0.44179999999999997\n",
      " left: X idx: 2  <=  1.5  ? | Info gain:  0.0006150612305854234\n",
      "  left: X idx: 1  <=  4.2  ? | Info gain:  0.0002810035842293912\n",
      "    left: X idx: 1  <=  3.3  ? | Info gain:  0.00015766716943187522\n",
      "        left: 0.18461538461538465\n",
      "        right: 0.23529411764705882\n",
      "    right: 0.4\n",
      "  right: X idx: 1  <=  3.4  ? | Info gain:  0.00036296296296296277\n",
      "    left: X idx: 0  <=  5.0  ? | Info gain:  0.00022500000000000008\n",
      "        left: 0.20000000000000004\n",
      "        right: 0.35\n",
      "    right: X idx: 0  <=  5.0  ? | Info gain:  0.0004444444444444443\n",
      "        left: 0.6\n",
      "        right: 0.3333333333333333\n",
      " right: X idx: 2  <=  4.7  ? | Info gain:  0.07459556096794469\n",
      "  left: X idx: 2  <=  4.1  ? | Info gain:  0.005155572983697985\n",
      "    left: X idx: 2  <=  3.8  ? | Info gain:  0.001375744047619047\n",
      "        left: 1.0285714285714285\n",
      "        right: 1.2333333333333334\n",
      "    right: X idx: 2  <=  4.4  ? | Info gain:  0.0011430014430014424\n",
      "        left: 1.3200000000000003\n",
      "        right: 1.481818181818182\n",
      "  right: X idx: 1  <=  3.2  ? | Info gain:  0.010835555863172152\n",
      "    left: X idx: 0  <=  6.3  ? | Info gain:  0.0025713865955739016\n",
      "        left: 1.7882352941176471\n",
      "        right: 1.9736842105263157\n",
      "    right: X idx: 0  <=  7.2  ? | Info gain:  0.0002400793650793644\n",
      "        left: 2.3833333333333333\n",
      "        right: 2.2\n"
     ]
    }
   ],
   "source": [
    "regressor = DecisionTreeRegressor(min_samples_split=3, max_depth=3)\n",
    "regressor.fit(X_train, y_train)\n",
    "regressor.print_tree()"
   ]
  },
  {
   "cell_type": "code",
   "execution_count": 45,
   "metadata": {},
   "outputs": [
    {
     "data": {
      "text/plain": [
       "0.15212070648750395"
      ]
     },
     "execution_count": 45,
     "metadata": {},
     "output_type": "execute_result"
    }
   ],
   "source": [
    "y_pred_train = regressor.predict(X_train) \n",
    "np.sqrt(mean_squared_error(y_train, y_pred_train))"
   ]
  },
  {
   "cell_type": "code",
   "execution_count": 46,
   "metadata": {},
   "outputs": [
    {
     "data": {
      "text/plain": [
       "0.20537823921126108"
      ]
     },
     "execution_count": 46,
     "metadata": {},
     "output_type": "execute_result"
    }
   ],
   "source": [
    "y_pred_test = regressor.predict(X_test) \n",
    "np.sqrt(mean_squared_error(y_test, y_pred_test))"
   ]
  },
  {
   "cell_type": "code",
   "execution_count": 47,
   "metadata": {},
   "outputs": [
    {
     "data": {
      "text/plain": [
       "{2: 0.5246849406728485, 1: 0.011637189579796382, 0: 0.0034809104050977104}"
      ]
     },
     "execution_count": 47,
     "metadata": {},
     "output_type": "execute_result"
    }
   ],
   "source": [
    "regressor.feature_importance()"
   ]
  },
  {
   "cell_type": "code",
   "execution_count": 48,
   "metadata": {},
   "outputs": [
    {
     "data": {
      "text/plain": [
       "{2: 6, 1: 4, 0: 4}"
      ]
     },
     "execution_count": 48,
     "metadata": {},
     "output_type": "execute_result"
    }
   ],
   "source": [
    "regressor.feature_importance('n_splits')"
   ]
  },
  {
   "cell_type": "code",
   "execution_count": 49,
   "metadata": {},
   "outputs": [],
   "source": [
    "rf_regressor = RandomForestRegressor(100, 3, 3, criterion = 'variance', max_features=3)\n",
    "rf_regressor.fit(X_train, y_train)"
   ]
  },
  {
   "cell_type": "code",
   "execution_count": 50,
   "metadata": {},
   "outputs": [
    {
     "data": {
      "text/plain": [
       "0.22418944342411437"
      ]
     },
     "execution_count": 50,
     "metadata": {},
     "output_type": "execute_result"
    }
   ],
   "source": [
    "y_pred_test_rf = rf_regressor.predict(X_test)\n",
    "y_pred_test_rf \n",
    "np.sqrt(mean_squared_error(y_test, y_pred_test_rf))"
   ]
  },
  {
   "cell_type": "code",
   "execution_count": 51,
   "metadata": {},
   "outputs": [
    {
     "data": {
      "text/plain": [
       "{0: 0.12130516473639208, 1: 0.04058324519731471, 2: 0.34307221085158707}"
      ]
     },
     "execution_count": 51,
     "metadata": {},
     "output_type": "execute_result"
    }
   ],
   "source": [
    "rf_regressor.feature_importance()"
   ]
  },
  {
   "cell_type": "code",
   "execution_count": 52,
   "metadata": {},
   "outputs": [
    {
     "data": {
      "text/plain": [
       "{0: 3.95, 1: 4.33, 2: 4.81}"
      ]
     },
     "execution_count": 52,
     "metadata": {},
     "output_type": "execute_result"
    }
   ],
   "source": [
    "rf_regressor.feature_importance('n_splits')"
   ]
  },
  {
   "cell_type": "code",
   "execution_count": 53,
   "metadata": {},
   "outputs": [
    {
     "data": {
      "text/plain": [
       "{0: 0.12130516473639208, 1: 0.04058324519731471, 2: 0.34307221085158707}"
      ]
     },
     "execution_count": 53,
     "metadata": {},
     "output_type": "execute_result"
    }
   ],
   "source": [
    "rf_regressor.feature_importance()"
   ]
  },
  {
   "cell_type": "code",
   "execution_count": 54,
   "metadata": {},
   "outputs": [
    {
     "name": "stdout",
     "output_type": "stream",
     "text": [
      "RMSE GB: 0.20308066977228664\n"
     ]
    }
   ],
   "source": [
    "n_estimators = 40\n",
    "min_samples_split = 3\n",
    "max_depth = 3\n",
    "learning_rate = 0.1\n",
    "\n",
    "gradientboosting = GradientBoostingRegressor(n_estimators=n_estimators, \n",
    "                                             min_samples_split=min_samples_split, \n",
    "                                             max_depth=max_depth, \n",
    "                                             criterion='variance', \n",
    "                                             learning_rate=learning_rate)\n",
    "gradientboosting.fit(X_train, y_train)\n",
    "\n",
    "y_pred_test_gb  = gradientboosting.predict(X_test)\n",
    "\n",
    "print('RMSE GB:', np.sqrt(mean_squared_error(y_test, y_pred_test_gb)))\n"
   ]
  },
  {
   "cell_type": "code",
   "execution_count": 55,
   "metadata": {},
   "outputs": [
    {
     "name": "stdout",
     "output_type": "stream",
     "text": [
      "{0: 0.0012875237608499068, 1: 0.002238701457472934, 2: 0.06957153133260251}\n"
     ]
    }
   ],
   "source": [
    "print(gradientboosting.feature_importance())"
   ]
  },
  {
   "cell_type": "code",
   "execution_count": 56,
   "metadata": {},
   "outputs": [
    {
     "data": {
      "image/png": "[encoded data removed]",
      "text/plain": [
       "<Figure size 640x480 with 1 Axes>"
      ]
     },
     "metadata": {},
     "output_type": "display_data"
    }
   ],
   "source": [
    "fig, ax = plt.subplots()\n",
    "ax.plot(range(n_estimators), gradientboosting.losses)\n",
    "ax.set_xlabel('Step')\n",
    "ax.set_ylabel('Loss')\n",
    "ax.set_title('Loss vs Step')\n",
    "plt.show()"
   ]
  },
  {
   "cell_type": "code",
   "execution_count": 57,
   "metadata": {},
   "outputs": [
    {
     "name": "stdout",
     "output_type": "stream",
     "text": [
      "RMSE sklearn: 0.2183879603996319\n"
     ]
    }
   ],
   "source": [
    "from sklearn.ensemble import GradientBoostingRegressor as GradientBoostingRegressorSK\n",
    "\n",
    "modelSK = GradientBoostingRegressorSK(n_estimators=n_estimators, \n",
    "                                      min_samples_split=min_samples_split, \n",
    "                                      max_depth=max_depth, \n",
    "                                      criterion='squared_error', \n",
    "                                      learning_rate=learning_rate)\n",
    "modelSK.fit(X_train, y_train.reshape(-1,))\n",
    "\n",
    "y_predSK = modelSK.predict(X_test)\n",
    "print('RMSE sklearn:', np.sqrt(mean_squared_error(y_test, y_predSK)))"
   ]
  }
 ],
 "metadata": {
  "kernelspec": {
   "display_name": ".venv",
   "language": "python",
   "name": "python3"
  },
  "language_info": {
   "codemirror_mode": {
    "name": "ipython",
    "version": 3
   },
   "file_extension": ".py",
   "mimetype": "text/x-python",
   "name": "python",
   "nbconvert_exporter": "python",
   "pygments_lexer": "ipython3",
   "version": "3.9.6"
  },
  "orig_nbformat": 4,
  "vscode": {
   "interpreter": {
    "hash": "591a1afad1313f8b0fa46243cfd9fb03ff123e5faaa4d891ef13a0539748135e"
   }
  }
 },
 "nbformat": 4,
 "nbformat_minor": 2
}
