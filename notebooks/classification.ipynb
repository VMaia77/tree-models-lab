{
 "cells": [
  {
   "attachments": {},
   "cell_type": "markdown",
   "metadata": {},
   "source": [
    "The dataset can be obtained here: https://www.kaggle.com/datasets/arshid/iris-flower-dataset"
   ]
  },
  {
   "cell_type": "code",
   "execution_count": 1,
   "metadata": {},
   "outputs": [
    {
     "data": {
      "text/html": [
       "<div>\n",
       "<style scoped>\n",
       "    .dataframe tbody tr th:only-of-type {\n",
       "        vertical-align: middle;\n",
       "    }\n",
       "\n",
       "    .dataframe tbody tr th {\n",
       "        vertical-align: top;\n",
       "    }\n",
       "\n",
       "    .dataframe thead th {\n",
       "        text-align: right;\n",
       "    }\n",
       "</style>\n",
       "<table border=\"1\" class=\"dataframe\">\n",
       "  <thead>\n",
       "    <tr style=\"text-align: right;\">\n",
       "      <th></th>\n",
       "      <th>sepal_length</th>\n",
       "      <th>sepal_width</th>\n",
       "      <th>petal_length</th>\n",
       "      <th>petal_width</th>\n",
       "      <th>type</th>\n",
       "    </tr>\n",
       "  </thead>\n",
       "  <tbody>\n",
       "    <tr>\n",
       "      <th>1</th>\n",
       "      <td>5.1</td>\n",
       "      <td>3.5</td>\n",
       "      <td>1.4</td>\n",
       "      <td>0.2</td>\n",
       "      <td>0</td>\n",
       "    </tr>\n",
       "    <tr>\n",
       "      <th>2</th>\n",
       "      <td>4.9</td>\n",
       "      <td>3.0</td>\n",
       "      <td>1.4</td>\n",
       "      <td>0.2</td>\n",
       "      <td>0</td>\n",
       "    </tr>\n",
       "    <tr>\n",
       "      <th>3</th>\n",
       "      <td>4.7</td>\n",
       "      <td>3.2</td>\n",
       "      <td>1.3</td>\n",
       "      <td>0.2</td>\n",
       "      <td>0</td>\n",
       "    </tr>\n",
       "    <tr>\n",
       "      <th>4</th>\n",
       "      <td>4.6</td>\n",
       "      <td>3.1</td>\n",
       "      <td>1.5</td>\n",
       "      <td>0.2</td>\n",
       "      <td>0</td>\n",
       "    </tr>\n",
       "    <tr>\n",
       "      <th>5</th>\n",
       "      <td>5.0</td>\n",
       "      <td>3.6</td>\n",
       "      <td>1.4</td>\n",
       "      <td>0.2</td>\n",
       "      <td>0</td>\n",
       "    </tr>\n",
       "    <tr>\n",
       "      <th>6</th>\n",
       "      <td>5.4</td>\n",
       "      <td>3.9</td>\n",
       "      <td>1.7</td>\n",
       "      <td>0.4</td>\n",
       "      <td>0</td>\n",
       "    </tr>\n",
       "    <tr>\n",
       "      <th>7</th>\n",
       "      <td>4.6</td>\n",
       "      <td>3.4</td>\n",
       "      <td>1.4</td>\n",
       "      <td>0.3</td>\n",
       "      <td>0</td>\n",
       "    </tr>\n",
       "    <tr>\n",
       "      <th>8</th>\n",
       "      <td>5.0</td>\n",
       "      <td>3.4</td>\n",
       "      <td>1.5</td>\n",
       "      <td>0.2</td>\n",
       "      <td>0</td>\n",
       "    </tr>\n",
       "    <tr>\n",
       "      <th>9</th>\n",
       "      <td>4.4</td>\n",
       "      <td>2.9</td>\n",
       "      <td>1.4</td>\n",
       "      <td>0.2</td>\n",
       "      <td>0</td>\n",
       "    </tr>\n",
       "    <tr>\n",
       "      <th>10</th>\n",
       "      <td>4.9</td>\n",
       "      <td>3.1</td>\n",
       "      <td>1.5</td>\n",
       "      <td>0.1</td>\n",
       "      <td>0</td>\n",
       "    </tr>\n",
       "  </tbody>\n",
       "</table>\n",
       "</div>"
      ],
      "text/plain": [
       "    sepal_length  sepal_width  petal_length  petal_width  type\n",
       "1            5.1          3.5           1.4          0.2     0\n",
       "2            4.9          3.0           1.4          0.2     0\n",
       "3            4.7          3.2           1.3          0.2     0\n",
       "4            4.6          3.1           1.5          0.2     0\n",
       "5            5.0          3.6           1.4          0.2     0\n",
       "6            5.4          3.9           1.7          0.4     0\n",
       "7            4.6          3.4           1.4          0.3     0\n",
       "8            5.0          3.4           1.5          0.2     0\n",
       "9            4.4          2.9           1.4          0.2     0\n",
       "10           4.9          3.1           1.5          0.1     0"
      ]
     },
     "execution_count": 1,
     "metadata": {},
     "output_type": "execute_result"
    }
   ],
   "source": [
    "import numpy as np\n",
    "import pandas as pd\n",
    "from sklearn.model_selection import train_test_split\n",
    "from sklearn.metrics import accuracy_score\n",
    "from src.algorithms.decision_tree.decision_tree_classifier import DecisionTreeClassifier\n",
    "from src.algorithms.random_forest.random_forest_classifier import RandomForestClassifier\n",
    "\n",
    "col_names = ['sepal_length', 'sepal_width', 'petal_length', 'petal_width', 'type']\n",
    "df = pd.read_csv(\"iris.csv\", skiprows=1, header=None, names=col_names)\n",
    "mapping_dict = {'Iris-setosa': 0, 'Iris-versicolor': 1, 'Iris-virginica': 2}\n",
    "df['type'] = df['type'].map(mapping_dict)\n",
    "# df['type'] = np.random.permutation(df['type'].values)\n",
    "\n",
    "df.head(10)"
   ]
  },
  {
   "cell_type": "code",
   "execution_count": 2,
   "metadata": {},
   "outputs": [],
   "source": [
    "X = df.iloc[:, :-1].values\n",
    "y = df.iloc[:, -1].values.reshape(-1,1)\n",
    "\n",
    "X_train, X_test, y_train, y_test = train_test_split(X, y, test_size=0.3, random_state=42)"
   ]
  },
  {
   "cell_type": "code",
   "execution_count": 3,
   "metadata": {},
   "outputs": [
    {
     "name": "stdout",
     "output_type": "stream",
     "text": [
      "X idx: 2  <=  1.9  ? | Info gain:  0.3121088435374149\n",
      " left: 0.0\n",
      " right: X idx: 2  <=  4.7  ? | Info gain:  0.25028684053074307\n",
      "  left: X idx: 3  <=  1.5  ? | Info gain:  0.018470418470418425\n",
      "    left: 1.0\n",
      "    right: 2.0\n",
      "  right: X idx: 3  <=  1.7  ? | Info gain:  0.027058036814134382\n",
      "    left: X idx: 2  <=  4.9  ? | Info gain:  0.0126984126984127\n",
      "        left: 1.0\n",
      "        right: 2.0\n",
      "    right: X idx: 2  <=  4.8  ? | Info gain:  0.005772005772005727\n",
      "        left: 2.0\n",
      "        right: 2.0\n"
     ]
    }
   ],
   "source": [
    "classifier = DecisionTreeClassifier(min_samples_split=3, max_depth=3, criterion = 'gini_index')\n",
    "classifier.fit(X_train, y_train)\n",
    "classifier.print_tree()"
   ]
  },
  {
   "cell_type": "code",
   "execution_count": 20,
   "metadata": {},
   "outputs": [
    {
     "name": "stdout",
     "output_type": "stream",
     "text": [
      "Accuracy:  0.9714285714285714\n"
     ]
    }
   ],
   "source": [
    "y_train_pred = classifier.predict(X_train) \n",
    "print('Accuracy: ', accuracy_score(y_train, y_train_pred))"
   ]
  },
  {
   "cell_type": "code",
   "execution_count": 5,
   "metadata": {},
   "outputs": [
    {
     "data": {
      "text/plain": [
       "array([1., 2., 2., 1., 2., 1., 2., 1., 0., 2., 1., 0., 0., 0., 1., 2., 0.,\n",
       "       0., 0., 1., 0., 1., 2., 0., 1., 2., 0., 2., 2., 1., 1., 2., 1., 0.,\n",
       "       1., 2., 0., 0., 1., 2., 0., 2., 0., 0., 2., 1., 2., 2., 2., 2., 1.,\n",
       "       0., 0., 2., 2., 0., 0., 0., 1., 2., 0., 2., 2., 0., 1., 1., 2., 1.,\n",
       "       2., 0., 2., 1., 2., 1., 1., 1., 0., 1., 1., 0., 1., 2., 2., 0., 1.,\n",
       "       2., 2., 0., 2., 0., 1., 2., 2., 1., 2., 1., 1., 2., 2., 0., 1., 2.,\n",
       "       0., 1., 2.])"
      ]
     },
     "execution_count": 5,
     "metadata": {},
     "output_type": "execute_result"
    }
   ],
   "source": [
    "y_train_pred"
   ]
  },
  {
   "cell_type": "code",
   "execution_count": 7,
   "metadata": {},
   "outputs": [
    {
     "data": {
      "text/plain": [
       "array([[0.        , 1.        , 0.        ],\n",
       "       [0.        , 0.33333333, 0.66666667],\n",
       "       [0.        , 0.        , 1.        ],\n",
       "       [0.        , 1.        , 0.        ],\n",
       "       [0.        , 0.        , 1.        ],\n",
       "       [0.        , 1.        , 0.        ],\n",
       "       [0.        , 0.        , 1.        ],\n",
       "       [0.        , 1.        , 0.        ],\n",
       "       [1.        , 0.        , 0.        ],\n",
       "       [0.        , 0.        , 1.        ],\n",
       "       [0.        , 1.        , 0.        ],\n",
       "       [1.        , 0.        , 0.        ],\n",
       "       [1.        , 0.        , 0.        ],\n",
       "       [1.        , 0.        , 0.        ],\n",
       "       [0.        , 1.        , 0.        ],\n",
       "       [0.        , 0.        , 1.        ],\n",
       "       [1.        , 0.        , 0.        ],\n",
       "       [1.        , 0.        , 0.        ],\n",
       "       [1.        , 0.        , 0.        ],\n",
       "       [0.        , 1.        , 0.        ],\n",
       "       [1.        , 0.        , 0.        ],\n",
       "       [0.        , 1.        , 0.        ],\n",
       "       [0.        , 0.        , 1.        ],\n",
       "       [1.        , 0.        , 0.        ],\n",
       "       [0.        , 1.        , 0.        ],\n",
       "       [0.        , 0.        , 1.        ],\n",
       "       [1.        , 0.        , 0.        ],\n",
       "       [0.        , 0.33333333, 0.66666667],\n",
       "       [0.        , 0.        , 1.        ],\n",
       "       [0.        , 1.        , 0.        ],\n",
       "       [0.        , 1.        , 0.        ],\n",
       "       [0.        , 0.        , 1.        ],\n",
       "       [0.        , 1.        , 0.        ],\n",
       "       [1.        , 0.        , 0.        ],\n",
       "       [0.        , 1.        , 0.        ],\n",
       "       [0.        , 0.        , 1.        ],\n",
       "       [1.        , 0.        , 0.        ],\n",
       "       [1.        , 0.        , 0.        ],\n",
       "       [0.        , 1.        , 0.        ],\n",
       "       [0.        , 0.33333333, 0.66666667],\n",
       "       [1.        , 0.        , 0.        ],\n",
       "       [0.        , 0.        , 1.        ],\n",
       "       [1.        , 0.        , 0.        ],\n",
       "       [1.        , 0.        , 0.        ],\n",
       "       [0.        , 0.33333333, 0.66666667],\n",
       "       [0.        , 1.        , 0.        ],\n",
       "       [0.        , 0.        , 1.        ],\n",
       "       [0.        , 0.33333333, 0.66666667],\n",
       "       [0.        , 0.33333333, 0.66666667],\n",
       "       [0.        , 0.        , 1.        ],\n",
       "       [0.        , 1.        , 0.        ],\n",
       "       [1.        , 0.        , 0.        ],\n",
       "       [1.        , 0.        , 0.        ],\n",
       "       [0.        , 0.33333333, 0.66666667],\n",
       "       [0.        , 0.        , 1.        ],\n",
       "       [1.        , 0.        , 0.        ],\n",
       "       [1.        , 0.        , 0.        ],\n",
       "       [1.        , 0.        , 0.        ],\n",
       "       [0.        , 1.        , 0.        ],\n",
       "       [0.        , 0.        , 1.        ],\n",
       "       [1.        , 0.        , 0.        ],\n",
       "       [0.        , 0.        , 1.        ],\n",
       "       [0.        , 0.        , 1.        ],\n",
       "       [1.        , 0.        , 0.        ],\n",
       "       [0.        , 1.        , 0.        ],\n",
       "       [0.        , 1.        , 0.        ],\n",
       "       [0.        , 0.33333333, 0.66666667],\n",
       "       [0.        , 1.        , 0.        ],\n",
       "       [0.        , 0.        , 1.        ],\n",
       "       [1.        , 0.        , 0.        ],\n",
       "       [0.        , 0.        , 1.        ],\n",
       "       [0.        , 1.        , 0.        ],\n",
       "       [0.        , 0.        , 1.        ],\n",
       "       [0.        , 1.        , 0.        ],\n",
       "       [0.        , 1.        , 0.        ],\n",
       "       [0.        , 1.        , 0.        ],\n",
       "       [1.        , 0.        , 0.        ],\n",
       "       [0.        , 1.        , 0.        ],\n",
       "       [0.        , 1.        , 0.        ],\n",
       "       [1.        , 0.        , 0.        ],\n",
       "       [0.        , 1.        , 0.        ],\n",
       "       [0.        , 0.        , 1.        ],\n",
       "       [0.        , 0.        , 1.        ],\n",
       "       [1.        , 0.        , 0.        ],\n",
       "       [0.        , 1.        , 0.        ],\n",
       "       [0.        , 0.        , 1.        ],\n",
       "       [0.        , 0.33333333, 0.66666667],\n",
       "       [1.        , 0.        , 0.        ],\n",
       "       [0.        , 0.        , 1.        ],\n",
       "       [1.        , 0.        , 0.        ],\n",
       "       [0.        , 1.        , 0.        ],\n",
       "       [0.        , 0.        , 1.        ],\n",
       "       [0.        , 0.        , 1.        ],\n",
       "       [0.        , 1.        , 0.        ],\n",
       "       [0.        , 0.        , 1.        ],\n",
       "       [0.        , 1.        , 0.        ],\n",
       "       [0.        , 1.        , 0.        ],\n",
       "       [0.        , 0.        , 1.        ],\n",
       "       [0.        , 0.        , 1.        ],\n",
       "       [1.        , 0.        , 0.        ],\n",
       "       [0.        , 1.        , 0.        ],\n",
       "       [0.        , 0.        , 1.        ],\n",
       "       [1.        , 0.        , 0.        ],\n",
       "       [0.        , 1.        , 0.        ],\n",
       "       [0.        , 0.        , 1.        ]])"
      ]
     },
     "execution_count": 7,
     "metadata": {},
     "output_type": "execute_result"
    }
   ],
   "source": [
    "classifier.predict_proba(X_train)"
   ]
  },
  {
   "cell_type": "code",
   "execution_count": 9,
   "metadata": {},
   "outputs": [
    {
     "name": "stdout",
     "output_type": "stream",
     "text": [
      "0.9555555555555556\n"
     ]
    }
   ],
   "source": [
    "y_test_pred = classifier.predict(X_test) \n",
    "print('Accuracy: ', accuracy_score(y_test, y_test_pred))"
   ]
  },
  {
   "cell_type": "code",
   "execution_count": 12,
   "metadata": {},
   "outputs": [],
   "source": [
    "randomforest = RandomForestClassifier(100, 3, 3)\n",
    "randomforest.fit(X_train, y_train)"
   ]
  },
  {
   "cell_type": "code",
   "execution_count": 13,
   "metadata": {},
   "outputs": [
    {
     "name": "stdout",
     "output_type": "stream",
     "text": [
      "1.0\n"
     ]
    }
   ],
   "source": [
    "preds_rf = randomforest.predict(X_test)\n",
    "preds_rf\n",
    "print('Accuracy: ', accuracy_score(y_test, preds_rf))"
   ]
  },
  {
   "cell_type": "code",
   "execution_count": 15,
   "metadata": {},
   "outputs": [
    {
     "data": {
      "text/plain": [
       "array([[4.13435150e-14, 9.93033355e-01, 6.96664536e-03],\n",
       "       [9.80468266e-01, 1.74010247e-02, 2.13070973e-03],\n",
       "       [0.00000000e+00, 2.74185475e-06, 9.99997258e-01],\n",
       "       [4.13435195e-14, 7.21196510e-01, 2.78803490e-01],\n",
       "       [2.84672570e-18, 7.84698651e-01, 2.15301349e-01],\n",
       "       [9.89582837e-01, 1.04170042e-02, 1.58945719e-07],\n",
       "       [1.58942467e-20, 9.89395822e-01, 1.06041779e-02],\n",
       "       [1.14440918e-06, 1.17203170e-02, 9.88278539e-01],\n",
       "       [2.93438293e-07, 7.49381863e-01, 2.50617843e-01],\n",
       "       [4.15212163e-14, 9.85221804e-01, 1.47781957e-02],\n",
       "       [1.08991355e-06, 5.99944998e-03, 9.93999460e-01],\n",
       "       [9.99990582e-01, 8.46385992e-06, 9.53674680e-07],\n",
       "       [9.81249502e-01, 1.73298843e-02, 1.42061349e-03],\n",
       "       [9.87536245e-01, 7.99908659e-03, 4.46466818e-03],\n",
       "       [9.97685111e-01, 2.31488911e-03, 3.12802288e-22],\n",
       "       [8.17435170e-07, 4.15521852e-01, 5.84477331e-01],\n",
       "       [1.19209331e-07, 4.04659654e-03, 9.95953284e-01],\n",
       "       [1.14159632e-20, 9.89395508e-01, 1.06044922e-02],\n",
       "       [1.14159633e-20, 9.91579018e-01, 8.42098205e-03],\n",
       "       [4.13435150e-14, 4.04952950e-03, 9.95950471e-01],\n",
       "       [9.99999183e-01, 5.44956752e-07, 2.72478376e-07],\n",
       "       [1.19209331e-07, 8.19403337e-02, 9.18059547e-01],\n",
       "       [9.96903693e-01, 3.09614678e-03, 1.59939130e-07],\n",
       "       [4.13435150e-14, 4.04952950e-03, 9.95950471e-01],\n",
       "       [1.90735591e-06, 1.90736007e-06, 9.99996185e-01],\n",
       "       [1.19209290e-07, 1.26973145e-02, 9.87302566e-01],\n",
       "       [2.84672570e-18, 1.27002226e-02, 9.87299777e-01],\n",
       "       [1.08991350e-06, 9.76733753e-03, 9.90231573e-01],\n",
       "       [9.99990582e-01, 8.46385992e-06, 9.53674680e-07],\n",
       "       [9.99999237e-01, 3.81470090e-07, 3.81470090e-07],\n",
       "       [9.99998093e-01, 3.46944695e-19, 1.90734863e-06],\n",
       "       [9.80468266e-01, 1.74010246e-02, 2.13070968e-03],\n",
       "       [1.14440918e-06, 8.51479548e-01, 1.48519308e-01],\n",
       "       [9.99999841e-01, 3.63807480e-13, 1.58946083e-07],\n",
       "       [9.99999183e-01, 5.44956752e-07, 2.72478376e-07],\n",
       "       [4.13435150e-14, 4.58352528e-03, 9.95416475e-01],\n",
       "       [1.08991355e-06, 7.53504685e-01, 2.46494225e-01],\n",
       "       [9.97684692e-01, 2.31514954e-03, 1.58945719e-07],\n",
       "       [9.96901945e-01, 3.09614678e-03, 1.90834204e-06],\n",
       "       [9.97684850e-01, 2.31514954e-03, 3.12802288e-22],\n",
       "       [4.15212163e-14, 1.15662266e-02, 9.88433773e-01],\n",
       "       [5.56310028e-06, 4.84951677e-01, 5.15042760e-01],\n",
       "       [1.14440918e-06, 7.62190434e-01, 2.37808421e-01],\n",
       "       [9.89582996e-01, 1.04170042e-02, 3.12802288e-22],\n",
       "       [9.89582996e-01, 1.04170042e-02, 3.12595492e-22]])"
      ]
     },
     "execution_count": 15,
     "metadata": {},
     "output_type": "execute_result"
    }
   ],
   "source": [
    "preds_rf_proba = randomforest.predict_proba(X_test)\n",
    "preds_rf_proba"
   ]
  },
  {
   "cell_type": "code",
   "execution_count": 16,
   "metadata": {},
   "outputs": [
    {
     "data": {
      "text/plain": [
       "{2: 0.5808661025385764, 3: 0.04552845528455281}"
      ]
     },
     "execution_count": 16,
     "metadata": {},
     "output_type": "execute_result"
    }
   ],
   "source": [
    "classifier.feature_importance()"
   ]
  },
  {
   "cell_type": "code",
   "execution_count": 17,
   "metadata": {},
   "outputs": [
    {
     "data": {
      "text/plain": [
       "{2: 4, 3: 2}"
      ]
     },
     "execution_count": 17,
     "metadata": {},
     "output_type": "execute_result"
    }
   ],
   "source": [
    "classifier.feature_importance('n_splits')"
   ]
  },
  {
   "cell_type": "code",
   "execution_count": 18,
   "metadata": {},
   "outputs": [
    {
     "data": {
      "text/plain": [
       "{0: 0.10767871132213996,\n",
       " 1: 0.04013755357066883,\n",
       " 2: 0.1899054227539028,\n",
       " 3: 0.2094563800088434}"
      ]
     },
     "execution_count": 18,
     "metadata": {},
     "output_type": "execute_result"
    }
   ],
   "source": [
    "randomforest.feature_importance()"
   ]
  },
  {
   "cell_type": "code",
   "execution_count": 19,
   "metadata": {},
   "outputs": [
    {
     "data": {
      "text/plain": [
       "{0: 2.7, 1: 1.54, 2: 1.21, 3: 1.38}"
      ]
     },
     "execution_count": 19,
     "metadata": {},
     "output_type": "execute_result"
    }
   ],
   "source": [
    "randomforest.feature_importance('n_splits')"
   ]
  }
 ],
 "metadata": {
  "kernelspec": {
   "display_name": ".venv",
   "language": "python",
   "name": "python3"
  },
  "language_info": {
   "codemirror_mode": {
    "name": "ipython",
    "version": 3
   },
   "file_extension": ".py",
   "mimetype": "text/x-python",
   "name": "python",
   "nbconvert_exporter": "python",
   "pygments_lexer": "ipython3",
   "version": "3.9.6"
  },
  "orig_nbformat": 4,
  "vscode": {
   "interpreter": {
    "hash": "591a1afad1313f8b0fa46243cfd9fb03ff123e5faaa4d891ef13a0539748135e"
   }
  }
 },
 "nbformat": 4,
 "nbformat_minor": 2
}
